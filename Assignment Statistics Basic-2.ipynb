{
 "cells": [
  {
   "cell_type": "markdown",
   "id": "b8f58b62",
   "metadata": {},
   "source": [
    "##### Q1. What are the three measures of central tendency?\n",
    "\n",
    "The three measures of central tendancies are:\n",
    "\n",
    "1) Mean:\n",
    "Mean is the sum of all the values divided by the number of values.\n",
    "\n",
    "Mean(x) = [x1+x2+x3+x4+....+xn]/n\n",
    "\n",
    "2) Median:\n",
    "Median is the value such that one-half of the data lies above and below (Middle value in sorted list). If there is an even number of data values then the middle value is the average of the two values that divide the sorted data into upper and lower halves.\n",
    "\n",
    "\n",
    "3) Mode:\n",
    "Mode is the most frequent value in a dataset. It is not commenly used because the mode can be skewed by outliers."
   ]
  },
  {
   "cell_type": "markdown",
   "id": "66d9d3f3",
   "metadata": {},
   "source": [
    "##### Q2. What is the difference between the mean, median, and mode? How are they used to measure the central tendency of a dataset?\n",
    "\n",
    "let's break down the difference between mean, median, and mode:\n",
    "\n",
    "1) Mean:\n",
    "Mean is the sum of all the values divided by the number of values.\n",
    "\n",
    "Mean(x) = [x1+x2+x3+x4+....+xn]/n\n",
    "\n",
    "2) Median:\n",
    "Median is the value such that one-half of the data lies above and below (Middle value in sorted list). If there is an even number of data values then the middle value is the average of the two values that divide the sorted data into upper and lower halves.\n",
    "\n",
    "\n",
    "3) Mode:\n",
    "Mode is the most frequent value in a dataset. It is not commenly used because the mode can be skewed by outliers.\n",
    "\n",
    "\n",
    "Choosing the right measure of central tendancy:\n",
    "\n",
    "- If data is symmetrical, the mean, median and mode will be close to each other and any of them can be a good representation of the center.\n",
    "- If data has outliers the median is a better choice than the mean because it's not influenced by extreme values.\n",
    "- Fao categorical data , the mode is often the most useful measure as there isn't really a meaningful average."
   ]
  },
  {
   "cell_type": "markdown",
   "id": "e7e13576",
   "metadata": {},
   "source": [
    "##### Q3. Measure the three measures of central tendency for the given height data: [178,177,176,177,178.2,178,175,179,180,175,178.9,176.2,177,172.5,178,176.5]"
   ]
  },
  {
   "cell_type": "code",
   "execution_count": 6,
   "id": "e781b640",
   "metadata": {},
   "outputs": [
    {
     "name": "stdout",
     "output_type": "stream",
     "text": [
      "177.01875\n",
      "177.0\n",
      "ModeResult(mode=array([177.]), count=array([3]))\n"
     ]
    },
    {
     "name": "stderr",
     "output_type": "stream",
     "text": [
      "C:\\Users\\Krushna Devkar\\AppData\\Local\\Temp\\ipykernel_10904\\4115156284.py:7: FutureWarning: Unlike other reduction functions (e.g. `skew`, `kurtosis`), the default behavior of `mode` typically preserves the axis it acts along. In SciPy 1.11.0, this behavior will change: the default value of `keepdims` will become False, the `axis` over which the statistic is taken will be eliminated, and the value None will no longer be accepted. Set `keepdims` to True or False to avoid this warning.\n",
      "  print(stats.mode(l))\n"
     ]
    }
   ],
   "source": [
    "import numpy as np\n",
    "from scipy import stats\n",
    "l = [178,177,176,177,178.2,178,175,179,180,175,178.9,176.2,177,172.5,178,176.5]\n",
    "\n",
    "print(np.mean(l))\n",
    "print(np.median(l))\n",
    "print(stats.mode(l))"
   ]
  },
  {
   "cell_type": "markdown",
   "id": "a1d48a72",
   "metadata": {},
   "source": [
    "##### Q4. Find the standard deviation for the given data: [178,177,176,177,178.2,178,175,179,180,175,178.9,176.2,177,172.5,178,176.5]"
   ]
  },
  {
   "cell_type": "code",
   "execution_count": 7,
   "id": "a31b3a16",
   "metadata": {},
   "outputs": [
    {
     "data": {
      "text/plain": [
       "1.7885814036548633"
      ]
     },
     "execution_count": 7,
     "metadata": {},
     "output_type": "execute_result"
    }
   ],
   "source": [
    "l2 = [178,177,176,177,178.2,178,175,179,180,175,178.9,176.2,177,172.5,178,176.5]\n",
    "\n",
    "np.std(l2)"
   ]
  },
  {
   "cell_type": "markdown",
   "id": "607def60",
   "metadata": {},
   "source": [
    "##### Q5. How are measures of dispersion such as range, variance, and standard deviation used to describe the spread of a dataset? Provide an example.\n",
    "\n",
    "Measure of dispersion is nothing but measure of 'spread of the data'.\n",
    "\n",
    "1] Varience:\n",
    "Varience is a measure of how spread out the values in a dataset are. It helps to understand the distribution of data and find any outliers.\n",
    "\n",
    "var = (Xi - u)^2 / N\n",
    "\n",
    "eg. var = 2 means that the values in the dataset are spread out by an average of 2 units from the mean.\n",
    "\n",
    "2] Standard deviation:\n",
    "Standard deviation is the measure of how spread out the values in data set are from the mean.\n",
    "\n",
    "std = (varience)^0.5\n",
    "\n",
    "eg. std = 2 then it tells that next element is at 2 steps back/forth from mean."
   ]
  },
  {
   "cell_type": "markdown",
   "id": "b89f2629",
   "metadata": {},
   "source": [
    "##### Q6. What is a Venn diagram?\n",
    "\n",
    "A venn diagram is a visual tool that uses overlapping circles to represent relationships between sets. It's a great way to show at a glance the similarities and differences between two or more group of things.\n",
    "\n",
    "Components:\n",
    "- Circles : Each circle represents a set of items.\n",
    "- Labels : Circles are labeled with the names of the sets they represent.\n",
    "- Overlapping area : The area where two circles overlap represents items that belong to both sets \n",
    "- Non overlapping area: Areas within a circle but not overlapping with others represent items unique to that set."
   ]
  },
  {
   "cell_type": "markdown",
   "id": "94ee0355",
   "metadata": {},
   "source": [
    "##### Q7. For the two given sets A = (2,3,4,5,6,7) & B = (0,2,6,8,10). Find:\n",
    "(i) A B\n",
    "(ii) A ⋃ B"
   ]
  },
  {
   "cell_type": "code",
   "execution_count": 10,
   "id": "90526f7a",
   "metadata": {},
   "outputs": [
    {
     "name": "stdout",
     "output_type": "stream",
     "text": [
      "[2 6]\n",
      "[ 0  2  3  4  5  6  7  8 10]\n"
     ]
    }
   ],
   "source": [
    " A = (2,3,4,5,6,7)\n",
    " B = (0,2,6,8,10)\n",
    "print(np.intersect1d(A,B))\n",
    "print(np.union1d(A,B))"
   ]
  },
  {
   "cell_type": "markdown",
   "id": "1991e1f5",
   "metadata": {},
   "source": [
    "##### Q8. What do you understand about skewness in data?\n",
    "\n",
    "Skewness, in the realm of statistics, refers to the symmetry of a probability distribution. It essentially tells you how lopsided the distribution is compared to a symmetrical bell curve.\n",
    "\n",
    "Measuring Skewness:\n",
    "- Skewness is measured by a statistical value. A positive skewness value indicates a distribution that leans to the right.(Longer tail on the right side)\n",
    "- A negative skewness value indicates a distribution that leans to the left (longer tail on the left side).\n",
    "- A skewness of zero indicates a symmetrical distribution(Normal distribution)."
   ]
  },
  {
   "cell_type": "markdown",
   "id": "c573e514",
   "metadata": {},
   "source": [
    "##### Q9. If a data is right skewed then what will be the position of median with respect to mean?\n",
    "\n",
    "In a right-skewed data distribution, the median will be less than the mean. Here's why:\n",
    "\n",
    "- Right Skew: Imagine the data plotted on a number line, with most values clustered on the left side and a longer tail extending towards the right.\n",
    "- Mean: The mean is sensitive to extreme values. Since the tail extends to the right (higher values), the mean will be \"pulled\" towards the right, located somewhere within the tail.\n",
    "- Median: The median represents the \"middle\" value. In a right-skewed distribution, the middle value will be located more towards the left side (where the majority of the data points are) compared to the mean."
   ]
  },
  {
   "cell_type": "markdown",
   "id": "4323beca",
   "metadata": {},
   "source": [
    "##### Q10. Explain the difference between covariance and correlation. How are these measures used in statistical analysis?\n",
    "\n",
    "- Covariance is a measure of the linear relationship between two variables.It is calculated by multiplying the deviation of each variable from its mean and then averaging the product.\n",
    "    - If two variables tend to move in the same direction then covariance will be positive.\n",
    "    - If two variables tend to move in the opposite direction then covariance will be negative.\n",
    "    \n",
    "- Correlation is the standard measure of the linear relationship between two variables correlation values range from -1 to 1 with correlation of -1 indicating a perfect negative linear relationship a correlation of 1 indicating a perfect positive correlation and correlation of 0 indicating no linear relationship."
   ]
  },
  {
   "cell_type": "markdown",
   "id": "ed2f4ee4",
   "metadata": {},
   "source": [
    "##### Q11. What is the formula for calculating the sample mean? Provide an example calculation for a dataset.\n",
    "\n",
    "The formula for calculating the sample mean is:\n",
    "Σxi / n\n",
    "\n",
    "where ,\n",
    "Σ represents the sum of all the values in the data set.\n",
    "xi represents each individual value on the data set.\n",
    "n represents the total number of values in the dataset.\n",
    "\n",
    "- Example Calculation:\n",
    "\n",
    "Let's say you have a dataset of test scores: {75, 82, 90, 88, 65}\n",
    "\n",
    "Σ xi (sum of all values): 75 + 82 + 90 + 88 + 65 = 400\n",
    "n (number of values): 5 (there are 5 scores in the data set)\n",
    "Sample mean (Σ xi / n): 400 / 5 = 80"
   ]
  },
  {
   "cell_type": "markdown",
   "id": "52046713",
   "metadata": {},
   "source": [
    "##### Q12. For a normal distribution data what is the relationship between its measure of central tendency?\n",
    "\n",
    "In a normal distribution, there's a special relationship between the different measures of central tendancy: mean,median,mode.\n",
    "\n",
    "Due to the symmetrical bell-shaped curve of a normal distribution, all three measures of central tendancy coincide,They will all have the same value.\n",
    "\n",
    "here's why:\n",
    "- Normal distribution and symmetry: A normal distribution is perfectly symmetrical around its center. The left and right halves mirror each other.\n",
    "- Measures of central tendancy and center: Ideally a measure of central tendancy represents the 'middle' of the data.\n",
    "- Coincidence in a normal curve: Since the normal distribution is symmetrical the center point coincides with the peak of the curve.\n",
    "\n"
   ]
  },
  {
   "cell_type": "markdown",
   "id": "01708666",
   "metadata": {},
   "source": [
    "##### Q13. How is covariance different from correlation?\n",
    "\n",
    "Covariance and correlation are both measures used in statistics to describe the relationship between two variables, but they serve slightly different purposes and have different properties:\n",
    "\n",
    "- 1) Definition:\n",
    "\n",
    "Covariance measures the degree to which two variables change together. It indicates the direction of the linear relationship between variables.\n",
    "Correlation, on the other hand, is a standardized measure of the strength and direction of the linear relationship between two variables. It ranges from -1 to 1\n",
    "\n",
    "- 2)Scale:\n",
    "\n",
    "Covariance is not scaled and its value depends on the units of the variables being measured. Thus, it's not directly interpretable in terms of the strength of the relationship.\n",
    "Correlation is dimensionless and always lies between -1 and 1, which makes it easier to interpret and compare across different datasets.\n",
    "\n",
    "- 3) Interpretation:\n",
    "\n",
    "Covariance can be difficult to interpret because its value is not standardized and depends on the scales of the variables. A positive covariance indicates that the variables tend to move in the same direction, while a negative covariance indicates they move in opposite directions. However, the magnitude of the covariance does not indicate the strength of the relationship.\n",
    "Correlation is easier to interpret as it provides information about both the direction and strength of the relationship between variables. A correlation close to 1 or -1 indicates a strong linear relationship, while a correlation close to 0 indicates a weak or no linear relationship.\n",
    "\n",
    "- 4) Normalization:\n",
    "\n",
    "Covariance is not normalized, meaning its value can vary widely depending on the scales of the variables.\n",
    "Correlation is normalized, making it easier to compare across different datasets."
   ]
  },
  {
   "cell_type": "markdown",
   "id": "55a50637",
   "metadata": {},
   "source": [
    "##### Q14. How do outliers affect measures of central tendency and dispersion? Provide an example.\n",
    "\n",
    "Outliers can have a notable impact on measures of central tendancy and dispersion:\n",
    "\n",
    "1) Central tendancy(mean,median,mode):\n",
    "- Outliers can heavily influence the mean,pulling it towards their extreme values.\n",
    "- The median being the middle value when the data is sorted, is less sensitive to outliers.\n",
    "- The mode, representing the most frequent value , is generally unaffected by outliers unless the outlier itself becomes the new mode.\n",
    "\n",
    "2) Dispersion measures(Range,Variance,Standard deviation):\n",
    "- Outliers can significantly affect the range which is the difference between the maximum and minimum values.\n",
    "- The variance and standard deviation which involve squaring the difference from the mean, can be heavily influenced by outliers.\n",
    "- Outliers with large deviations from the mean can inflate the variance and standard deviation."
   ]
  },
  {
   "cell_type": "code",
   "execution_count": null,
   "id": "127db6f6",
   "metadata": {},
   "outputs": [],
   "source": []
  }
 ],
 "metadata": {
  "kernelspec": {
   "display_name": "Python 3 (ipykernel)",
   "language": "python",
   "name": "python3"
  },
  "language_info": {
   "codemirror_mode": {
    "name": "ipython",
    "version": 3
   },
   "file_extension": ".py",
   "mimetype": "text/x-python",
   "name": "python",
   "nbconvert_exporter": "python",
   "pygments_lexer": "ipython3",
   "version": "3.10.9"
  }
 },
 "nbformat": 4,
 "nbformat_minor": 5
}
